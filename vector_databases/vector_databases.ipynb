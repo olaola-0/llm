{
 "cells": [
  {
   "cell_type": "markdown",
   "metadata": {},
   "source": [
    "### Generate Embeddings"
   ]
  },
  {
   "cell_type": "code",
   "execution_count": 1,
   "metadata": {},
   "outputs": [
    {
     "data": {
      "text/html": [
       "<div>\n",
       "<style scoped>\n",
       "    .dataframe tbody tr th:only-of-type {\n",
       "        vertical-align: middle;\n",
       "    }\n",
       "\n",
       "    .dataframe tbody tr th {\n",
       "        vertical-align: top;\n",
       "    }\n",
       "\n",
       "    .dataframe thead th {\n",
       "        text-align: right;\n",
       "    }\n",
       "</style>\n",
       "<table border=\"1\" class=\"dataframe\">\n",
       "  <thead>\n",
       "    <tr style=\"text-align: right;\">\n",
       "      <th></th>\n",
       "      <th>sentence</th>\n",
       "    </tr>\n",
       "  </thead>\n",
       "  <tbody>\n",
       "    <tr>\n",
       "      <th>0</th>\n",
       "      <td>A little girl is smiling and running outside</td>\n",
       "    </tr>\n",
       "    <tr>\n",
       "      <th>1</th>\n",
       "      <td>A man is drawing on a digital dry erase board</td>\n",
       "    </tr>\n",
       "    <tr>\n",
       "      <th>2</th>\n",
       "      <td>A black bird is sitting on a dead tree</td>\n",
       "    </tr>\n",
       "    <tr>\n",
       "      <th>3</th>\n",
       "      <td>An elderly man is sitting on a bench</td>\n",
       "    </tr>\n",
       "    <tr>\n",
       "      <th>4</th>\n",
       "      <td>A man and a woman are sitting comfortably on t...</td>\n",
       "    </tr>\n",
       "  </tbody>\n",
       "</table>\n",
       "</div>"
      ],
      "text/plain": [
       "                                            sentence\n",
       "0       A little girl is smiling and running outside\n",
       "1      A man is drawing on a digital dry erase board\n",
       "2             A black bird is sitting on a dead tree\n",
       "3               An elderly man is sitting on a bench\n",
       "4  A man and a woman are sitting comfortably on t..."
      ]
     },
     "execution_count": 1,
     "metadata": {},
     "output_type": "execute_result"
    }
   ],
   "source": [
    "import pandas as pd\n",
    "\n",
    "df = pd.read_csv('sentences.csv')\n",
    "df.head()"
   ]
  },
  {
   "cell_type": "code",
   "execution_count": 2,
   "metadata": {},
   "outputs": [],
   "source": [
    "import os\n",
    "from openai import OpenAI\n",
    "\n",
    "api_key = os.environ.get(\"OPENAI_API_KEY\")\n",
    "\n",
    "client = OpenAI(api_key=api_key)\n",
    "\n",
    "# Generate embeddings for each sentence in the dataframe\n",
    "def generate_embeddings(sentence: str):\n",
    "    return (\n",
    "        client.embeddings.create(input=sentence, model=\"text-embedding-3-small\").data[0].embedding\n",
    "    )\n",
    "    "
   ]
  },
  {
   "cell_type": "code",
   "execution_count": 3,
   "metadata": {},
   "outputs": [],
   "source": [
    "import numpy as np\n",
    "\n",
    "# Load the embeddings from the file if it exists\n",
    "if os.path.exists(\"embedded_sentences.csv\"):\n",
    "    df = pd.read_csv(\"embedded_sentences.csv\")\n",
    "\n",
    "    # Convert the string representation of the embeddings to numpy arrays\n",
    "    df[\"embedding\"] = df.embedding.apply(eval).apply(np.array)\n",
    "\n",
    "# Otherwise, generate the embeddings\n",
    "else:\n",
    "    df[\"embedding\"] = df.sentence.apply(generate_embeddings)\n",
    "    df.to_csv(\"embedded_sentences.csv\", index=False)\n"
   ]
  },
  {
   "cell_type": "code",
   "execution_count": 4,
   "metadata": {},
   "outputs": [
    {
     "data": {
      "text/html": [
       "<div>\n",
       "<style scoped>\n",
       "    .dataframe tbody tr th:only-of-type {\n",
       "        vertical-align: middle;\n",
       "    }\n",
       "\n",
       "    .dataframe tbody tr th {\n",
       "        vertical-align: top;\n",
       "    }\n",
       "\n",
       "    .dataframe thead th {\n",
       "        text-align: right;\n",
       "    }\n",
       "</style>\n",
       "<table border=\"1\" class=\"dataframe\">\n",
       "  <thead>\n",
       "    <tr style=\"text-align: right;\">\n",
       "      <th></th>\n",
       "      <th>sentence</th>\n",
       "      <th>embedding</th>\n",
       "      <th>id</th>\n",
       "    </tr>\n",
       "  </thead>\n",
       "  <tbody>\n",
       "    <tr>\n",
       "      <th>0</th>\n",
       "      <td>A little girl is smiling and running outside</td>\n",
       "      <td>[0.0436425618827343, 0.01375775970518589, 0.00...</td>\n",
       "      <td>1</td>\n",
       "    </tr>\n",
       "    <tr>\n",
       "      <th>1</th>\n",
       "      <td>A man is drawing on a digital dry erase board</td>\n",
       "      <td>[-0.008048108778893948, 0.030766354873776436, ...</td>\n",
       "      <td>2</td>\n",
       "    </tr>\n",
       "    <tr>\n",
       "      <th>2</th>\n",
       "      <td>A black bird is sitting on a dead tree</td>\n",
       "      <td>[0.027433251962065697, 1.8205369087809231e-06,...</td>\n",
       "      <td>3</td>\n",
       "    </tr>\n",
       "    <tr>\n",
       "      <th>3</th>\n",
       "      <td>An elderly man is sitting on a bench</td>\n",
       "      <td>[-0.004122881218791008, -0.056238383054733276,...</td>\n",
       "      <td>4</td>\n",
       "    </tr>\n",
       "    <tr>\n",
       "      <th>4</th>\n",
       "      <td>A man and a woman are sitting comfortably on t...</td>\n",
       "      <td>[0.021146269515156746, -0.032280709594488144, ...</td>\n",
       "      <td>5</td>\n",
       "    </tr>\n",
       "  </tbody>\n",
       "</table>\n",
       "</div>"
      ],
      "text/plain": [
       "                                            sentence  \\\n",
       "0       A little girl is smiling and running outside   \n",
       "1      A man is drawing on a digital dry erase board   \n",
       "2             A black bird is sitting on a dead tree   \n",
       "3               An elderly man is sitting on a bench   \n",
       "4  A man and a woman are sitting comfortably on t...   \n",
       "\n",
       "                                           embedding  id  \n",
       "0  [0.0436425618827343, 0.01375775970518589, 0.00...   1  \n",
       "1  [-0.008048108778893948, 0.030766354873776436, ...   2  \n",
       "2  [0.027433251962065697, 1.8205369087809231e-06,...   3  \n",
       "3  [-0.004122881218791008, -0.056238383054733276,...   4  \n",
       "4  [0.021146269515156746, -0.032280709594488144, ...   5  "
      ]
     },
     "execution_count": 4,
     "metadata": {},
     "output_type": "execute_result"
    }
   ],
   "source": [
    "# Create a new column to store the id of each sentence in the dataframe\n",
    "df['id'] = range(1, len(df) + 1)\n",
    "\n",
    "df.head()"
   ]
  },
  {
   "cell_type": "code",
   "execution_count": 5,
   "metadata": {},
   "outputs": [
    {
     "data": {
      "text/plain": [
       "array([ 0.04364256,  0.01375776,  0.00951197, ..., -0.02644038,\n",
       "        0.0155397 ,  0.02192083])"
      ]
     },
     "execution_count": 5,
     "metadata": {},
     "output_type": "execute_result"
    }
   ],
   "source": [
    "df.embedding[0]"
   ]
  },
  {
   "cell_type": "code",
   "execution_count": 6,
   "metadata": {},
   "outputs": [
    {
     "data": {
      "text/plain": [
       "1536"
      ]
     },
     "execution_count": 6,
     "metadata": {},
     "output_type": "execute_result"
    }
   ],
   "source": [
    "embedding_dimension = len(df.embedding[0])\n",
    "embedding_dimension"
   ]
  },
  {
   "cell_type": "markdown",
   "metadata": {},
   "source": [
    "### **FAISS**"
   ]
  },
  {
   "cell_type": "code",
   "execution_count": 7,
   "metadata": {},
   "outputs": [],
   "source": [
    "# Create a numpy array to store the embeddings\n",
    "embeddings = np.array(df.embedding.tolist())\n",
    "\n",
    "query = \"I love to play football\"\n",
    "xq = generate_embeddings(query)"
   ]
  },
  {
   "cell_type": "code",
   "execution_count": 8,
   "metadata": {},
   "outputs": [
    {
     "data": {
      "text/plain": [
       "1536"
      ]
     },
     "execution_count": 8,
     "metadata": {},
     "output_type": "execute_result"
    }
   ],
   "source": [
    "len(xq)"
   ]
  },
  {
   "cell_type": "markdown",
   "metadata": {},
   "source": [
    "#### **IndexFlatL2** - Exact Search for L2 (Eucledian distance)"
   ]
  },
  {
   "cell_type": "code",
   "execution_count": 9,
   "metadata": {},
   "outputs": [
    {
     "data": {
      "text/plain": [
       "True"
      ]
     },
     "execution_count": 9,
     "metadata": {},
     "output_type": "execute_result"
    }
   ],
   "source": [
    "import faiss\n",
    "\n",
    "# Create an index for the embeddings\n",
    "index_l2 = faiss.IndexFlatL2(embedding_dimension)\n",
    "\n",
    "# Check if the index is trained\n",
    "index_l2.is_trained"
   ]
  },
  {
   "cell_type": "code",
   "execution_count": 10,
   "metadata": {},
   "outputs": [
    {
     "data": {
      "text/plain": [
       "1000"
      ]
     },
     "execution_count": 10,
     "metadata": {},
     "output_type": "execute_result"
    }
   ],
   "source": [
    "# Add the embeddings to the index and return the number of embeddings added\n",
    "index_l2.add(embeddings)\n",
    "index_l2.ntotal"
   ]
  },
  {
   "cell_type": "code",
   "execution_count": 11,
   "metadata": {},
   "outputs": [
    {
     "data": {
      "text/html": [
       "<div>\n",
       "<style scoped>\n",
       "    .dataframe tbody tr th:only-of-type {\n",
       "        vertical-align: middle;\n",
       "    }\n",
       "\n",
       "    .dataframe tbody tr th {\n",
       "        vertical-align: top;\n",
       "    }\n",
       "\n",
       "    .dataframe thead th {\n",
       "        text-align: right;\n",
       "    }\n",
       "</style>\n",
       "<table border=\"1\" class=\"dataframe\">\n",
       "  <thead>\n",
       "    <tr style=\"text-align: right;\">\n",
       "      <th></th>\n",
       "      <th>sentence</th>\n",
       "      <th>embedding</th>\n",
       "      <th>id</th>\n",
       "    </tr>\n",
       "  </thead>\n",
       "  <tbody>\n",
       "    <tr>\n",
       "      <th>247</th>\n",
       "      <td>A shirtless man is playing football on a field</td>\n",
       "      <td>[0.010925278067588806, 0.01937379315495491, -0...</td>\n",
       "      <td>248</td>\n",
       "    </tr>\n",
       "    <tr>\n",
       "      <th>246</th>\n",
       "      <td>A man with a shirt is holding a football</td>\n",
       "      <td>[0.00947174895554781, 0.013827533461153507, -0...</td>\n",
       "      <td>247</td>\n",
       "    </tr>\n",
       "    <tr>\n",
       "      <th>172</th>\n",
       "      <td>Two men are playing table football</td>\n",
       "      <td>[-0.03752468526363373, 0.05197532847523689, -0...</td>\n",
       "      <td>173</td>\n",
       "    </tr>\n",
       "    <tr>\n",
       "      <th>979</th>\n",
       "      <td>The crowd is watching a football game</td>\n",
       "      <td>[-0.01140331570059061, 0.015461748465895653, -...</td>\n",
       "      <td>980</td>\n",
       "    </tr>\n",
       "  </tbody>\n",
       "</table>\n",
       "</div>"
      ],
      "text/plain": [
       "                                           sentence  \\\n",
       "247  A shirtless man is playing football on a field   \n",
       "246        A man with a shirt is holding a football   \n",
       "172              Two men are playing table football   \n",
       "979           The crowd is watching a football game   \n",
       "\n",
       "                                             embedding   id  \n",
       "247  [0.010925278067588806, 0.01937379315495491, -0...  248  \n",
       "246  [0.00947174895554781, 0.013827533461153507, -0...  247  \n",
       "172  [-0.03752468526363373, 0.05197532847523689, -0...  173  \n",
       "979  [-0.01140331570059061, 0.015461748465895653, -...  980  "
      ]
     },
     "execution_count": 11,
     "metadata": {},
     "output_type": "execute_result"
    }
   ],
   "source": [
    "# Search for the nearest neighbors of the query in the index \n",
    "_, doc_indices = index_l2.search(np.expand_dims(xq, axis=0), k=4)\n",
    "df.iloc[doc_indices[0]] "
   ]
  },
  {
   "cell_type": "markdown",
   "metadata": {},
   "source": [
    "#### **IndexIVFlat -** Inverted file with exact post-verification"
   ]
  },
  {
   "cell_type": "code",
   "execution_count": 12,
   "metadata": {},
   "outputs": [
    {
     "data": {
      "text/plain": [
       "False"
      ]
     },
     "execution_count": 12,
     "metadata": {},
     "output_type": "execute_result"
    }
   ],
   "source": [
    "n_centroids = 20\n",
    "\n",
    "# Create a quantizer for the embeddings using the L2 distance metric \n",
    "quantizer = faiss.IndexFlatL2(embedding_dimension)\n",
    "\n",
    "# Create an index for the embeddings using the IVF algorithm with the quantizer and the number of centroids\n",
    "index_ivf = faiss.IndexIVFFlat(quantizer, embedding_dimension, n_centroids,)\n",
    "index_ivf.is_trained"
   ]
  },
  {
   "cell_type": "code",
   "execution_count": 13,
   "metadata": {},
   "outputs": [
    {
     "data": {
      "text/plain": [
       "True"
      ]
     },
     "execution_count": 13,
     "metadata": {},
     "output_type": "execute_result"
    }
   ],
   "source": [
    "# Train the index with the embeddings \n",
    "index_ivf.train(embeddings)\n",
    "index_ivf.is_trained"
   ]
  },
  {
   "cell_type": "code",
   "execution_count": 14,
   "metadata": {},
   "outputs": [
    {
     "data": {
      "text/plain": [
       "1000"
      ]
     },
     "execution_count": 14,
     "metadata": {},
     "output_type": "execute_result"
    }
   ],
   "source": [
    "index_ivf.add(embeddings)\n",
    "index_ivf.ntotal"
   ]
  },
  {
   "cell_type": "code",
   "execution_count": 15,
   "metadata": {},
   "outputs": [
    {
     "data": {
      "text/html": [
       "<div>\n",
       "<style scoped>\n",
       "    .dataframe tbody tr th:only-of-type {\n",
       "        vertical-align: middle;\n",
       "    }\n",
       "\n",
       "    .dataframe tbody tr th {\n",
       "        vertical-align: top;\n",
       "    }\n",
       "\n",
       "    .dataframe thead th {\n",
       "        text-align: right;\n",
       "    }\n",
       "</style>\n",
       "<table border=\"1\" class=\"dataframe\">\n",
       "  <thead>\n",
       "    <tr style=\"text-align: right;\">\n",
       "      <th></th>\n",
       "      <th>sentence</th>\n",
       "      <th>embedding</th>\n",
       "      <th>id</th>\n",
       "    </tr>\n",
       "  </thead>\n",
       "  <tbody>\n",
       "    <tr>\n",
       "      <th>172</th>\n",
       "      <td>Two men are playing table football</td>\n",
       "      <td>[-0.03752468526363373, 0.05197532847523689, -0...</td>\n",
       "      <td>173</td>\n",
       "    </tr>\n",
       "    <tr>\n",
       "      <th>979</th>\n",
       "      <td>The crowd is watching a football game</td>\n",
       "      <td>[-0.01140331570059061, 0.015461748465895653, -...</td>\n",
       "      <td>980</td>\n",
       "    </tr>\n",
       "    <tr>\n",
       "      <th>551</th>\n",
       "      <td>A football player is running past an official ...</td>\n",
       "      <td>[0.03300335630774498, 0.017781982198357582, -0...</td>\n",
       "      <td>552</td>\n",
       "    </tr>\n",
       "    <tr>\n",
       "      <th>469</th>\n",
       "      <td>A football player in a red and white uniform i...</td>\n",
       "      <td>[-0.01379761379212141, -0.04831472039222717, 0...</td>\n",
       "      <td>470</td>\n",
       "    </tr>\n",
       "  </tbody>\n",
       "</table>\n",
       "</div>"
      ],
      "text/plain": [
       "                                              sentence  \\\n",
       "172                 Two men are playing table football   \n",
       "979              The crowd is watching a football game   \n",
       "551  A football player is running past an official ...   \n",
       "469  A football player in a red and white uniform i...   \n",
       "\n",
       "                                             embedding   id  \n",
       "172  [-0.03752468526363373, 0.05197532847523689, -0...  173  \n",
       "979  [-0.01140331570059061, 0.015461748465895653, -...  980  \n",
       "551  [0.03300335630774498, 0.017781982198357582, -0...  552  \n",
       "469  [-0.01379761379212141, -0.04831472039222717, 0...  470  "
      ]
     },
     "execution_count": 15,
     "metadata": {},
     "output_type": "execute_result"
    }
   ],
   "source": [
    "_, doc_indices = index_ivf.search(np.expand_dims(xq, axis=0), k=4)\n",
    "df.iloc[doc_indices[0]]"
   ]
  },
  {
   "cell_type": "code",
   "execution_count": 16,
   "metadata": {},
   "outputs": [
    {
     "data": {
      "text/html": [
       "<div>\n",
       "<style scoped>\n",
       "    .dataframe tbody tr th:only-of-type {\n",
       "        vertical-align: middle;\n",
       "    }\n",
       "\n",
       "    .dataframe tbody tr th {\n",
       "        vertical-align: top;\n",
       "    }\n",
       "\n",
       "    .dataframe thead th {\n",
       "        text-align: right;\n",
       "    }\n",
       "</style>\n",
       "<table border=\"1\" class=\"dataframe\">\n",
       "  <thead>\n",
       "    <tr style=\"text-align: right;\">\n",
       "      <th></th>\n",
       "      <th>sentence</th>\n",
       "      <th>embedding</th>\n",
       "      <th>id</th>\n",
       "    </tr>\n",
       "  </thead>\n",
       "  <tbody>\n",
       "    <tr>\n",
       "      <th>247</th>\n",
       "      <td>A shirtless man is playing football on a field</td>\n",
       "      <td>[0.010925278067588806, 0.01937379315495491, -0...</td>\n",
       "      <td>248</td>\n",
       "    </tr>\n",
       "    <tr>\n",
       "      <th>246</th>\n",
       "      <td>A man with a shirt is holding a football</td>\n",
       "      <td>[0.00947174895554781, 0.013827533461153507, -0...</td>\n",
       "      <td>247</td>\n",
       "    </tr>\n",
       "    <tr>\n",
       "      <th>172</th>\n",
       "      <td>Two men are playing table football</td>\n",
       "      <td>[-0.03752468526363373, 0.05197532847523689, -0...</td>\n",
       "      <td>173</td>\n",
       "    </tr>\n",
       "    <tr>\n",
       "      <th>979</th>\n",
       "      <td>The crowd is watching a football game</td>\n",
       "      <td>[-0.01140331570059061, 0.015461748465895653, -...</td>\n",
       "      <td>980</td>\n",
       "    </tr>\n",
       "  </tbody>\n",
       "</table>\n",
       "</div>"
      ],
      "text/plain": [
       "                                           sentence  \\\n",
       "247  A shirtless man is playing football on a field   \n",
       "246        A man with a shirt is holding a football   \n",
       "172              Two men are playing table football   \n",
       "979           The crowd is watching a football game   \n",
       "\n",
       "                                             embedding   id  \n",
       "247  [0.010925278067588806, 0.01937379315495491, -0...  248  \n",
       "246  [0.00947174895554781, 0.013827533461153507, -0...  247  \n",
       "172  [-0.03752468526363373, 0.05197532847523689, -0...  173  \n",
       "979  [-0.01140331570059061, 0.015461748465895653, -...  980  "
      ]
     },
     "execution_count": 16,
     "metadata": {},
     "output_type": "execute_result"
    }
   ],
   "source": [
    "# Set the number of probes to 5 for the index\n",
    "index_ivf.nprobe = 5\n",
    "\n",
    "_, doc_indices = index_ivf.search(np.expand_dims(xq, axis=0), k=4)\n",
    "df.iloc[doc_indices[0]]"
   ]
  },
  {
   "cell_type": "markdown",
   "metadata": {},
   "source": [
    "#### **IndexIVPQ - IVF + Product Quantizer (PQ)**"
   ]
  },
  {
   "cell_type": "code",
   "execution_count": 17,
   "metadata": {},
   "outputs": [
    {
     "data": {
      "text/plain": [
       "False"
      ]
     },
     "execution_count": 17,
     "metadata": {},
     "output_type": "execute_result"
    }
   ],
   "source": [
    "code_size = 8\n",
    "bits_per_centroid = 4\n",
    "\n",
    "# Create an index for the embeddings using the IVF algorithm with the quantizer and the number of centroids\n",
    "index_ivf_pq = faiss.IndexIVFPQ(\n",
    "    quantizer, embedding_dimension, n_centroids, code_size, bits_per_centroid\n",
    ")\n",
    "index_ivf_pq.is_trained"
   ]
  },
  {
   "cell_type": "code",
   "execution_count": 18,
   "metadata": {},
   "outputs": [
    {
     "data": {
      "text/plain": [
       "1000"
      ]
     },
     "execution_count": 18,
     "metadata": {},
     "output_type": "execute_result"
    }
   ],
   "source": [
    "index_ivf_pq.train(embeddings) \n",
    "index_ivf_pq.add(embeddings)\n",
    "index_ivf_pq.ntotal"
   ]
  },
  {
   "cell_type": "code",
   "execution_count": 19,
   "metadata": {},
   "outputs": [
    {
     "data": {
      "text/html": [
       "<div>\n",
       "<style scoped>\n",
       "    .dataframe tbody tr th:only-of-type {\n",
       "        vertical-align: middle;\n",
       "    }\n",
       "\n",
       "    .dataframe tbody tr th {\n",
       "        vertical-align: top;\n",
       "    }\n",
       "\n",
       "    .dataframe thead th {\n",
       "        text-align: right;\n",
       "    }\n",
       "</style>\n",
       "<table border=\"1\" class=\"dataframe\">\n",
       "  <thead>\n",
       "    <tr style=\"text-align: right;\">\n",
       "      <th></th>\n",
       "      <th>sentence</th>\n",
       "      <th>embedding</th>\n",
       "      <th>id</th>\n",
       "    </tr>\n",
       "  </thead>\n",
       "  <tbody>\n",
       "    <tr>\n",
       "      <th>352</th>\n",
       "      <td>An opponent is tackling a soccer player</td>\n",
       "      <td>[0.0006955061689950526, -0.02708514593541622, ...</td>\n",
       "      <td>353</td>\n",
       "    </tr>\n",
       "    <tr>\n",
       "      <th>551</th>\n",
       "      <td>A football player is running past an official ...</td>\n",
       "      <td>[0.03300335630774498, 0.017781982198357582, -0...</td>\n",
       "      <td>552</td>\n",
       "    </tr>\n",
       "    <tr>\n",
       "      <th>469</th>\n",
       "      <td>A football player in a red and white uniform i...</td>\n",
       "      <td>[-0.01379761379212141, -0.04831472039222717, 0...</td>\n",
       "      <td>470</td>\n",
       "    </tr>\n",
       "    <tr>\n",
       "      <th>684</th>\n",
       "      <td>A man is punching a soccer ball</td>\n",
       "      <td>[-0.01688985712826252, 0.029744451865553856, 0...</td>\n",
       "      <td>685</td>\n",
       "    </tr>\n",
       "  </tbody>\n",
       "</table>\n",
       "</div>"
      ],
      "text/plain": [
       "                                              sentence  \\\n",
       "352            An opponent is tackling a soccer player   \n",
       "551  A football player is running past an official ...   \n",
       "469  A football player in a red and white uniform i...   \n",
       "684                    A man is punching a soccer ball   \n",
       "\n",
       "                                             embedding   id  \n",
       "352  [0.0006955061689950526, -0.02708514593541622, ...  353  \n",
       "551  [0.03300335630774498, 0.017781982198357582, -0...  552  \n",
       "469  [-0.01379761379212141, -0.04831472039222717, 0...  470  \n",
       "684  [-0.01688985712826252, 0.029744451865553856, 0...  685  "
      ]
     },
     "execution_count": 19,
     "metadata": {},
     "output_type": "execute_result"
    }
   ],
   "source": [
    "index_ivf_pq.nprobe = 5\n",
    "_, doc_indices = index_ivf_pq.search(np.expand_dims(xq, axis=0), k=4)\n",
    "df.iloc[doc_indices[0]]"
   ]
  },
  {
   "cell_type": "markdown",
   "metadata": {},
   "source": [
    "### **Pinecone**"
   ]
  },
  {
   "cell_type": "code",
   "execution_count": 20,
   "metadata": {},
   "outputs": [],
   "source": [
    "%load_ext autoreload\n",
    "%autoreload 2"
   ]
  },
  {
   "cell_type": "code",
   "execution_count": 21,
   "metadata": {},
   "outputs": [],
   "source": [
    "from pinecone import Pinecone\n",
    "\n",
    "PINECONE_API_KEY = os.environ.get(\"PINECONE_API_KEY\")\n",
    "database = Pinecone(api_key=PINECONE_API_KEY)"
   ]
  },
  {
   "cell_type": "code",
   "execution_count": 24,
   "metadata": {},
   "outputs": [],
   "source": [
    "from pinecone import ServerlessSpec\n",
    "\n",
    "serverless_spec = ServerlessSpec(cloud=\"aws\", region=\"us-east-1\")"
   ]
  },
  {
   "cell_type": "code",
   "execution_count": 26,
   "metadata": {},
   "outputs": [],
   "source": [
    "import time\n",
    "\n",
    "INDEX_NAME = \"random-sentences\"\n",
    "\n",
    "# Create an index with the specified name, dimension, metric, and serverless spec if it does not exist\n",
    "if INDEX_NAME not in database.list_indexes().names():\n",
    "    database.create_index(\n",
    "        name=INDEX_NAME,\n",
    "        dimension=embedding_dimension,\n",
    "        metric=\"cosine\",\n",
    "        spec=serverless_spec,\n",
    "    )\n",
    "\n",
    "    time.sleep(1)\n",
    "\n",
    "pinecone_index = database.Index(INDEX_NAME)"
   ]
  },
  {
   "cell_type": "code",
   "execution_count": 28,
   "metadata": {},
   "outputs": [
    {
     "data": {
      "text/plain": [
       "{'dimension': 1536,\n",
       " 'index_fullness': 0.0,\n",
       " 'namespaces': {},\n",
       " 'total_vector_count': 0}"
      ]
     },
     "execution_count": 28,
     "metadata": {},
     "output_type": "execute_result"
    }
   ],
   "source": [
    "pinecone_index.describe_index_stats()"
   ]
  },
  {
   "cell_type": "code",
   "execution_count": 29,
   "metadata": {},
   "outputs": [],
   "source": [
    "# Add the embeddings to the Pinecone index with the corresponding ids\n",
    "def iterator(df, size):\n",
    "    for i in range(0, len(df), size):\n",
    "        yield df.iloc[i : i + size]\n",
    "\n",
    "\n",
    "def vector(batch):\n",
    "    vector = []\n",
    "    for i in batch.to_dict(\"records\"):\n",
    "        vector.append((str(i[\"id\"]), i[\"embedding\"], {\"sentence\": i[\"sentence\"]}))\n",
    "\n",
    "    return vector\n"
   ]
  },
  {
   "cell_type": "code",
   "execution_count": 30,
   "metadata": {},
   "outputs": [],
   "source": [
    "if pinecone_index.describe_index_stats()[\"total_vector_count\"] == 0:\n",
    "    for batch in iterator(df, 100):\n",
    "        pinecone_index.upsert(vector(batch))\n",
    "        "
   ]
  },
  {
   "cell_type": "code",
   "execution_count": 31,
   "metadata": {},
   "outputs": [
    {
     "data": {
      "text/plain": [
       "{'dimension': 1536,\n",
       " 'index_fullness': 0.0,\n",
       " 'namespaces': {'': {'vector_count': 1000}},\n",
       " 'total_vector_count': 1000}"
      ]
     },
     "execution_count": 31,
     "metadata": {},
     "output_type": "execute_result"
    }
   ],
   "source": [
    "pinecone_index.describe_index_stats()"
   ]
  },
  {
   "cell_type": "code",
   "execution_count": 32,
   "metadata": {},
   "outputs": [
    {
     "name": "stdout",
     "output_type": "stream",
     "text": [
      "A shirtless man is playing football on a field\n",
      "A man with a shirt is holding a football\n",
      "Two men are playing table football\n",
      "The crowd is watching a football game\n"
     ]
    }
   ],
   "source": [
    "# Search for the nearest neighbors of the query in the Pinecone index\n",
    "response = pinecone_index.query(vector=xq, top_k=4, include_metadata=True)\n",
    "for match in response[\"matches\"]:\n",
    "    print(match[\"metadata\"][\"sentence\"])"
   ]
  },
  {
   "cell_type": "code",
   "execution_count": 33,
   "metadata": {},
   "outputs": [
    {
     "name": "stdout",
     "output_type": "stream",
     "text": [
      "The animal with big eyes is voraciously eating\n",
      "A lemur is eating quickly\n",
      "A man is eating\n",
      "A man is eating\n"
     ]
    }
   ],
   "source": [
    "query_2 = \"What likes to eat a lot\"\n",
    "xq_2 = generate_embeddings(query_2)\n",
    "response_2 = pinecone_index.query(vector=xq_2, top_k=4, include_metadata=True)\n",
    "for match in response_2[\"matches\"]:\n",
    "    print(match[\"metadata\"][\"sentence\"])"
   ]
  },
  {
   "cell_type": "code",
   "execution_count": null,
   "metadata": {},
   "outputs": [],
   "source": []
  }
 ],
 "metadata": {
  "kernelspec": {
   "display_name": ".venv",
   "language": "python",
   "name": "python3"
  },
  "language_info": {
   "codemirror_mode": {
    "name": "ipython",
    "version": 3
   },
   "file_extension": ".py",
   "mimetype": "text/x-python",
   "name": "python",
   "nbconvert_exporter": "python",
   "pygments_lexer": "ipython3",
   "version": "3.12.2"
  }
 },
 "nbformat": 4,
 "nbformat_minor": 2
}
